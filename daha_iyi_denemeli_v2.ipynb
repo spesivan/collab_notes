{
  "nbformat": 4,
  "nbformat_minor": 0,
  "metadata": {
    "colab": {
      "provenance": [],
      "authorship_tag": "ABX9TyPlv/RAjTJrbsiMkKhO9xrH",
      "include_colab_link": true
    },
    "kernelspec": {
      "name": "python3",
      "display_name": "Python 3"
    },
    "language_info": {
      "name": "python"
    }
  },
  "cells": [
    {
      "cell_type": "markdown",
      "metadata": {
        "id": "view-in-github",
        "colab_type": "text"
      },
      "source": [
        "<a href=\"https://colab.research.google.com/github/spesivan/collab_notes/blob/main/daha_iyi_denemeli_v2.ipynb\" target=\"_parent\"><img src=\"https://colab.research.google.com/assets/colab-badge.svg\" alt=\"Open In Colab\"/></a>"
      ]
    },
    {
      "cell_type": "code",
      "execution_count": 71,
      "metadata": {
        "id": "wYZeALOF4yt5"
      },
      "outputs": [],
      "source": [
        "import numpy as np\n",
        "import pandas as pd\n",
        "import seaborn as sbn\n",
        "import matplotlib.pyplot as plt"
      ]
    },
    {
      "cell_type": "code",
      "source": [
        "df = pd.read_excel(\"./renk_koordinatları_2024-02-11 14:16:26:891541.xlsx\")"
      ],
      "metadata": {
        "id": "AMrBPzTZ4_7n"
      },
      "execution_count": 72,
      "outputs": []
    },
    {
      "cell_type": "code",
      "source": [
        "df.head()"
      ],
      "metadata": {
        "colab": {
          "base_uri": "https://localhost:8080/",
          "height": 206
        },
        "id": "8ZJgG90d5iq_",
        "outputId": "d84a9bd2-4a6a-4636-c139-b822af9c9202"
      },
      "execution_count": 73,
      "outputs": [
        {
          "output_type": "execute_result",
          "data": {
            "text/plain": [
              "                         date  X_Kırmızı  Y_Kırmızı  X_Mavi  Y_Mavi  X_Yeşil  \\\n",
              "0  2024-02-11 14:16:13:133822         21        467     102     467       61   \n",
              "1  2024-02-11 14:16:13:258671         21        467     102     467       61   \n",
              "2  2024-02-11 14:16:13:289502         21        467     102     467       61   \n",
              "3  2024-02-11 14:16:13:330423         21        467     102     467       61   \n",
              "4  2024-02-11 14:16:13:362422         21        467     102     467       61   \n",
              "\n",
              "   Y_Yeşil  \n",
              "0      546  \n",
              "1      546  \n",
              "2      546  \n",
              "3      546  \n",
              "4      546  "
            ],
            "text/html": [
              "\n",
              "  <div id=\"df-1c673109-b1e2-47fe-9c6a-72691f0416e0\" class=\"colab-df-container\">\n",
              "    <div>\n",
              "<style scoped>\n",
              "    .dataframe tbody tr th:only-of-type {\n",
              "        vertical-align: middle;\n",
              "    }\n",
              "\n",
              "    .dataframe tbody tr th {\n",
              "        vertical-align: top;\n",
              "    }\n",
              "\n",
              "    .dataframe thead th {\n",
              "        text-align: right;\n",
              "    }\n",
              "</style>\n",
              "<table border=\"1\" class=\"dataframe\">\n",
              "  <thead>\n",
              "    <tr style=\"text-align: right;\">\n",
              "      <th></th>\n",
              "      <th>date</th>\n",
              "      <th>X_Kırmızı</th>\n",
              "      <th>Y_Kırmızı</th>\n",
              "      <th>X_Mavi</th>\n",
              "      <th>Y_Mavi</th>\n",
              "      <th>X_Yeşil</th>\n",
              "      <th>Y_Yeşil</th>\n",
              "    </tr>\n",
              "  </thead>\n",
              "  <tbody>\n",
              "    <tr>\n",
              "      <th>0</th>\n",
              "      <td>2024-02-11 14:16:13:133822</td>\n",
              "      <td>21</td>\n",
              "      <td>467</td>\n",
              "      <td>102</td>\n",
              "      <td>467</td>\n",
              "      <td>61</td>\n",
              "      <td>546</td>\n",
              "    </tr>\n",
              "    <tr>\n",
              "      <th>1</th>\n",
              "      <td>2024-02-11 14:16:13:258671</td>\n",
              "      <td>21</td>\n",
              "      <td>467</td>\n",
              "      <td>102</td>\n",
              "      <td>467</td>\n",
              "      <td>61</td>\n",
              "      <td>546</td>\n",
              "    </tr>\n",
              "    <tr>\n",
              "      <th>2</th>\n",
              "      <td>2024-02-11 14:16:13:289502</td>\n",
              "      <td>21</td>\n",
              "      <td>467</td>\n",
              "      <td>102</td>\n",
              "      <td>467</td>\n",
              "      <td>61</td>\n",
              "      <td>546</td>\n",
              "    </tr>\n",
              "    <tr>\n",
              "      <th>3</th>\n",
              "      <td>2024-02-11 14:16:13:330423</td>\n",
              "      <td>21</td>\n",
              "      <td>467</td>\n",
              "      <td>102</td>\n",
              "      <td>467</td>\n",
              "      <td>61</td>\n",
              "      <td>546</td>\n",
              "    </tr>\n",
              "    <tr>\n",
              "      <th>4</th>\n",
              "      <td>2024-02-11 14:16:13:362422</td>\n",
              "      <td>21</td>\n",
              "      <td>467</td>\n",
              "      <td>102</td>\n",
              "      <td>467</td>\n",
              "      <td>61</td>\n",
              "      <td>546</td>\n",
              "    </tr>\n",
              "  </tbody>\n",
              "</table>\n",
              "</div>\n",
              "    <div class=\"colab-df-buttons\">\n",
              "\n",
              "  <div class=\"colab-df-container\">\n",
              "    <button class=\"colab-df-convert\" onclick=\"convertToInteractive('df-1c673109-b1e2-47fe-9c6a-72691f0416e0')\"\n",
              "            title=\"Convert this dataframe to an interactive table.\"\n",
              "            style=\"display:none;\">\n",
              "\n",
              "  <svg xmlns=\"http://www.w3.org/2000/svg\" height=\"24px\" viewBox=\"0 -960 960 960\">\n",
              "    <path d=\"M120-120v-720h720v720H120Zm60-500h600v-160H180v160Zm220 220h160v-160H400v160Zm0 220h160v-160H400v160ZM180-400h160v-160H180v160Zm440 0h160v-160H620v160ZM180-180h160v-160H180v160Zm440 0h160v-160H620v160Z\"/>\n",
              "  </svg>\n",
              "    </button>\n",
              "\n",
              "  <style>\n",
              "    .colab-df-container {\n",
              "      display:flex;\n",
              "      gap: 12px;\n",
              "    }\n",
              "\n",
              "    .colab-df-convert {\n",
              "      background-color: #E8F0FE;\n",
              "      border: none;\n",
              "      border-radius: 50%;\n",
              "      cursor: pointer;\n",
              "      display: none;\n",
              "      fill: #1967D2;\n",
              "      height: 32px;\n",
              "      padding: 0 0 0 0;\n",
              "      width: 32px;\n",
              "    }\n",
              "\n",
              "    .colab-df-convert:hover {\n",
              "      background-color: #E2EBFA;\n",
              "      box-shadow: 0px 1px 2px rgba(60, 64, 67, 0.3), 0px 1px 3px 1px rgba(60, 64, 67, 0.15);\n",
              "      fill: #174EA6;\n",
              "    }\n",
              "\n",
              "    .colab-df-buttons div {\n",
              "      margin-bottom: 4px;\n",
              "    }\n",
              "\n",
              "    [theme=dark] .colab-df-convert {\n",
              "      background-color: #3B4455;\n",
              "      fill: #D2E3FC;\n",
              "    }\n",
              "\n",
              "    [theme=dark] .colab-df-convert:hover {\n",
              "      background-color: #434B5C;\n",
              "      box-shadow: 0px 1px 3px 1px rgba(0, 0, 0, 0.15);\n",
              "      filter: drop-shadow(0px 1px 2px rgba(0, 0, 0, 0.3));\n",
              "      fill: #FFFFFF;\n",
              "    }\n",
              "  </style>\n",
              "\n",
              "    <script>\n",
              "      const buttonEl =\n",
              "        document.querySelector('#df-1c673109-b1e2-47fe-9c6a-72691f0416e0 button.colab-df-convert');\n",
              "      buttonEl.style.display =\n",
              "        google.colab.kernel.accessAllowed ? 'block' : 'none';\n",
              "\n",
              "      async function convertToInteractive(key) {\n",
              "        const element = document.querySelector('#df-1c673109-b1e2-47fe-9c6a-72691f0416e0');\n",
              "        const dataTable =\n",
              "          await google.colab.kernel.invokeFunction('convertToInteractive',\n",
              "                                                    [key], {});\n",
              "        if (!dataTable) return;\n",
              "\n",
              "        const docLinkHtml = 'Like what you see? Visit the ' +\n",
              "          '<a target=\"_blank\" href=https://colab.research.google.com/notebooks/data_table.ipynb>data table notebook</a>'\n",
              "          + ' to learn more about interactive tables.';\n",
              "        element.innerHTML = '';\n",
              "        dataTable['output_type'] = 'display_data';\n",
              "        await google.colab.output.renderOutput(dataTable, element);\n",
              "        const docLink = document.createElement('div');\n",
              "        docLink.innerHTML = docLinkHtml;\n",
              "        element.appendChild(docLink);\n",
              "      }\n",
              "    </script>\n",
              "  </div>\n",
              "\n",
              "\n",
              "<div id=\"df-653bc4ce-9f07-4411-9864-4c3901995bdc\">\n",
              "  <button class=\"colab-df-quickchart\" onclick=\"quickchart('df-653bc4ce-9f07-4411-9864-4c3901995bdc')\"\n",
              "            title=\"Suggest charts\"\n",
              "            style=\"display:none;\">\n",
              "\n",
              "<svg xmlns=\"http://www.w3.org/2000/svg\" height=\"24px\"viewBox=\"0 0 24 24\"\n",
              "     width=\"24px\">\n",
              "    <g>\n",
              "        <path d=\"M19 3H5c-1.1 0-2 .9-2 2v14c0 1.1.9 2 2 2h14c1.1 0 2-.9 2-2V5c0-1.1-.9-2-2-2zM9 17H7v-7h2v7zm4 0h-2V7h2v10zm4 0h-2v-4h2v4z\"/>\n",
              "    </g>\n",
              "</svg>\n",
              "  </button>\n",
              "\n",
              "<style>\n",
              "  .colab-df-quickchart {\n",
              "      --bg-color: #E8F0FE;\n",
              "      --fill-color: #1967D2;\n",
              "      --hover-bg-color: #E2EBFA;\n",
              "      --hover-fill-color: #174EA6;\n",
              "      --disabled-fill-color: #AAA;\n",
              "      --disabled-bg-color: #DDD;\n",
              "  }\n",
              "\n",
              "  [theme=dark] .colab-df-quickchart {\n",
              "      --bg-color: #3B4455;\n",
              "      --fill-color: #D2E3FC;\n",
              "      --hover-bg-color: #434B5C;\n",
              "      --hover-fill-color: #FFFFFF;\n",
              "      --disabled-bg-color: #3B4455;\n",
              "      --disabled-fill-color: #666;\n",
              "  }\n",
              "\n",
              "  .colab-df-quickchart {\n",
              "    background-color: var(--bg-color);\n",
              "    border: none;\n",
              "    border-radius: 50%;\n",
              "    cursor: pointer;\n",
              "    display: none;\n",
              "    fill: var(--fill-color);\n",
              "    height: 32px;\n",
              "    padding: 0;\n",
              "    width: 32px;\n",
              "  }\n",
              "\n",
              "  .colab-df-quickchart:hover {\n",
              "    background-color: var(--hover-bg-color);\n",
              "    box-shadow: 0 1px 2px rgba(60, 64, 67, 0.3), 0 1px 3px 1px rgba(60, 64, 67, 0.15);\n",
              "    fill: var(--button-hover-fill-color);\n",
              "  }\n",
              "\n",
              "  .colab-df-quickchart-complete:disabled,\n",
              "  .colab-df-quickchart-complete:disabled:hover {\n",
              "    background-color: var(--disabled-bg-color);\n",
              "    fill: var(--disabled-fill-color);\n",
              "    box-shadow: none;\n",
              "  }\n",
              "\n",
              "  .colab-df-spinner {\n",
              "    border: 2px solid var(--fill-color);\n",
              "    border-color: transparent;\n",
              "    border-bottom-color: var(--fill-color);\n",
              "    animation:\n",
              "      spin 1s steps(1) infinite;\n",
              "  }\n",
              "\n",
              "  @keyframes spin {\n",
              "    0% {\n",
              "      border-color: transparent;\n",
              "      border-bottom-color: var(--fill-color);\n",
              "      border-left-color: var(--fill-color);\n",
              "    }\n",
              "    20% {\n",
              "      border-color: transparent;\n",
              "      border-left-color: var(--fill-color);\n",
              "      border-top-color: var(--fill-color);\n",
              "    }\n",
              "    30% {\n",
              "      border-color: transparent;\n",
              "      border-left-color: var(--fill-color);\n",
              "      border-top-color: var(--fill-color);\n",
              "      border-right-color: var(--fill-color);\n",
              "    }\n",
              "    40% {\n",
              "      border-color: transparent;\n",
              "      border-right-color: var(--fill-color);\n",
              "      border-top-color: var(--fill-color);\n",
              "    }\n",
              "    60% {\n",
              "      border-color: transparent;\n",
              "      border-right-color: var(--fill-color);\n",
              "    }\n",
              "    80% {\n",
              "      border-color: transparent;\n",
              "      border-right-color: var(--fill-color);\n",
              "      border-bottom-color: var(--fill-color);\n",
              "    }\n",
              "    90% {\n",
              "      border-color: transparent;\n",
              "      border-bottom-color: var(--fill-color);\n",
              "    }\n",
              "  }\n",
              "</style>\n",
              "\n",
              "  <script>\n",
              "    async function quickchart(key) {\n",
              "      const quickchartButtonEl =\n",
              "        document.querySelector('#' + key + ' button');\n",
              "      quickchartButtonEl.disabled = true;  // To prevent multiple clicks.\n",
              "      quickchartButtonEl.classList.add('colab-df-spinner');\n",
              "      try {\n",
              "        const charts = await google.colab.kernel.invokeFunction(\n",
              "            'suggestCharts', [key], {});\n",
              "      } catch (error) {\n",
              "        console.error('Error during call to suggestCharts:', error);\n",
              "      }\n",
              "      quickchartButtonEl.classList.remove('colab-df-spinner');\n",
              "      quickchartButtonEl.classList.add('colab-df-quickchart-complete');\n",
              "    }\n",
              "    (() => {\n",
              "      let quickchartButtonEl =\n",
              "        document.querySelector('#df-653bc4ce-9f07-4411-9864-4c3901995bdc button');\n",
              "      quickchartButtonEl.style.display =\n",
              "        google.colab.kernel.accessAllowed ? 'block' : 'none';\n",
              "    })();\n",
              "  </script>\n",
              "</div>\n",
              "\n",
              "    </div>\n",
              "  </div>\n"
            ]
          },
          "metadata": {},
          "execution_count": 73
        }
      ]
    },
    {
      "cell_type": "code",
      "source": [
        "df.index = pd.to_datetime(df['date'],format = '%Y-%m-%d %H:%M:%S:%f')\n",
        "df = df.drop(\"date\", axis = 1)\n",
        "df.head()"
      ],
      "metadata": {
        "colab": {
          "base_uri": "https://localhost:8080/",
          "height": 238
        },
        "id": "F55t4TEq5m96",
        "outputId": "e3453c11-8566-4492-e290-cb1d25aa23d0"
      },
      "execution_count": 74,
      "outputs": [
        {
          "output_type": "execute_result",
          "data": {
            "text/plain": [
              "                            X_Kırmızı  Y_Kırmızı  X_Mavi  Y_Mavi  X_Yeşil  \\\n",
              "date                                                                        \n",
              "2024-02-11 14:16:13.133822         21        467     102     467       61   \n",
              "2024-02-11 14:16:13.258671         21        467     102     467       61   \n",
              "2024-02-11 14:16:13.289502         21        467     102     467       61   \n",
              "2024-02-11 14:16:13.330423         21        467     102     467       61   \n",
              "2024-02-11 14:16:13.362422         21        467     102     467       61   \n",
              "\n",
              "                            Y_Yeşil  \n",
              "date                                 \n",
              "2024-02-11 14:16:13.133822      546  \n",
              "2024-02-11 14:16:13.258671      546  \n",
              "2024-02-11 14:16:13.289502      546  \n",
              "2024-02-11 14:16:13.330423      546  \n",
              "2024-02-11 14:16:13.362422      546  "
            ],
            "text/html": [
              "\n",
              "  <div id=\"df-0b2a64f5-3f64-4baf-a3d7-f19b03c8713c\" class=\"colab-df-container\">\n",
              "    <div>\n",
              "<style scoped>\n",
              "    .dataframe tbody tr th:only-of-type {\n",
              "        vertical-align: middle;\n",
              "    }\n",
              "\n",
              "    .dataframe tbody tr th {\n",
              "        vertical-align: top;\n",
              "    }\n",
              "\n",
              "    .dataframe thead th {\n",
              "        text-align: right;\n",
              "    }\n",
              "</style>\n",
              "<table border=\"1\" class=\"dataframe\">\n",
              "  <thead>\n",
              "    <tr style=\"text-align: right;\">\n",
              "      <th></th>\n",
              "      <th>X_Kırmızı</th>\n",
              "      <th>Y_Kırmızı</th>\n",
              "      <th>X_Mavi</th>\n",
              "      <th>Y_Mavi</th>\n",
              "      <th>X_Yeşil</th>\n",
              "      <th>Y_Yeşil</th>\n",
              "    </tr>\n",
              "    <tr>\n",
              "      <th>date</th>\n",
              "      <th></th>\n",
              "      <th></th>\n",
              "      <th></th>\n",
              "      <th></th>\n",
              "      <th></th>\n",
              "      <th></th>\n",
              "    </tr>\n",
              "  </thead>\n",
              "  <tbody>\n",
              "    <tr>\n",
              "      <th>2024-02-11 14:16:13.133822</th>\n",
              "      <td>21</td>\n",
              "      <td>467</td>\n",
              "      <td>102</td>\n",
              "      <td>467</td>\n",
              "      <td>61</td>\n",
              "      <td>546</td>\n",
              "    </tr>\n",
              "    <tr>\n",
              "      <th>2024-02-11 14:16:13.258671</th>\n",
              "      <td>21</td>\n",
              "      <td>467</td>\n",
              "      <td>102</td>\n",
              "      <td>467</td>\n",
              "      <td>61</td>\n",
              "      <td>546</td>\n",
              "    </tr>\n",
              "    <tr>\n",
              "      <th>2024-02-11 14:16:13.289502</th>\n",
              "      <td>21</td>\n",
              "      <td>467</td>\n",
              "      <td>102</td>\n",
              "      <td>467</td>\n",
              "      <td>61</td>\n",
              "      <td>546</td>\n",
              "    </tr>\n",
              "    <tr>\n",
              "      <th>2024-02-11 14:16:13.330423</th>\n",
              "      <td>21</td>\n",
              "      <td>467</td>\n",
              "      <td>102</td>\n",
              "      <td>467</td>\n",
              "      <td>61</td>\n",
              "      <td>546</td>\n",
              "    </tr>\n",
              "    <tr>\n",
              "      <th>2024-02-11 14:16:13.362422</th>\n",
              "      <td>21</td>\n",
              "      <td>467</td>\n",
              "      <td>102</td>\n",
              "      <td>467</td>\n",
              "      <td>61</td>\n",
              "      <td>546</td>\n",
              "    </tr>\n",
              "  </tbody>\n",
              "</table>\n",
              "</div>\n",
              "    <div class=\"colab-df-buttons\">\n",
              "\n",
              "  <div class=\"colab-df-container\">\n",
              "    <button class=\"colab-df-convert\" onclick=\"convertToInteractive('df-0b2a64f5-3f64-4baf-a3d7-f19b03c8713c')\"\n",
              "            title=\"Convert this dataframe to an interactive table.\"\n",
              "            style=\"display:none;\">\n",
              "\n",
              "  <svg xmlns=\"http://www.w3.org/2000/svg\" height=\"24px\" viewBox=\"0 -960 960 960\">\n",
              "    <path d=\"M120-120v-720h720v720H120Zm60-500h600v-160H180v160Zm220 220h160v-160H400v160Zm0 220h160v-160H400v160ZM180-400h160v-160H180v160Zm440 0h160v-160H620v160ZM180-180h160v-160H180v160Zm440 0h160v-160H620v160Z\"/>\n",
              "  </svg>\n",
              "    </button>\n",
              "\n",
              "  <style>\n",
              "    .colab-df-container {\n",
              "      display:flex;\n",
              "      gap: 12px;\n",
              "    }\n",
              "\n",
              "    .colab-df-convert {\n",
              "      background-color: #E8F0FE;\n",
              "      border: none;\n",
              "      border-radius: 50%;\n",
              "      cursor: pointer;\n",
              "      display: none;\n",
              "      fill: #1967D2;\n",
              "      height: 32px;\n",
              "      padding: 0 0 0 0;\n",
              "      width: 32px;\n",
              "    }\n",
              "\n",
              "    .colab-df-convert:hover {\n",
              "      background-color: #E2EBFA;\n",
              "      box-shadow: 0px 1px 2px rgba(60, 64, 67, 0.3), 0px 1px 3px 1px rgba(60, 64, 67, 0.15);\n",
              "      fill: #174EA6;\n",
              "    }\n",
              "\n",
              "    .colab-df-buttons div {\n",
              "      margin-bottom: 4px;\n",
              "    }\n",
              "\n",
              "    [theme=dark] .colab-df-convert {\n",
              "      background-color: #3B4455;\n",
              "      fill: #D2E3FC;\n",
              "    }\n",
              "\n",
              "    [theme=dark] .colab-df-convert:hover {\n",
              "      background-color: #434B5C;\n",
              "      box-shadow: 0px 1px 3px 1px rgba(0, 0, 0, 0.15);\n",
              "      filter: drop-shadow(0px 1px 2px rgba(0, 0, 0, 0.3));\n",
              "      fill: #FFFFFF;\n",
              "    }\n",
              "  </style>\n",
              "\n",
              "    <script>\n",
              "      const buttonEl =\n",
              "        document.querySelector('#df-0b2a64f5-3f64-4baf-a3d7-f19b03c8713c button.colab-df-convert');\n",
              "      buttonEl.style.display =\n",
              "        google.colab.kernel.accessAllowed ? 'block' : 'none';\n",
              "\n",
              "      async function convertToInteractive(key) {\n",
              "        const element = document.querySelector('#df-0b2a64f5-3f64-4baf-a3d7-f19b03c8713c');\n",
              "        const dataTable =\n",
              "          await google.colab.kernel.invokeFunction('convertToInteractive',\n",
              "                                                    [key], {});\n",
              "        if (!dataTable) return;\n",
              "\n",
              "        const docLinkHtml = 'Like what you see? Visit the ' +\n",
              "          '<a target=\"_blank\" href=https://colab.research.google.com/notebooks/data_table.ipynb>data table notebook</a>'\n",
              "          + ' to learn more about interactive tables.';\n",
              "        element.innerHTML = '';\n",
              "        dataTable['output_type'] = 'display_data';\n",
              "        await google.colab.output.renderOutput(dataTable, element);\n",
              "        const docLink = document.createElement('div');\n",
              "        docLink.innerHTML = docLinkHtml;\n",
              "        element.appendChild(docLink);\n",
              "      }\n",
              "    </script>\n",
              "  </div>\n",
              "\n",
              "\n",
              "<div id=\"df-605bdd9c-3bf6-4ef9-ab30-a598446f8f00\">\n",
              "  <button class=\"colab-df-quickchart\" onclick=\"quickchart('df-605bdd9c-3bf6-4ef9-ab30-a598446f8f00')\"\n",
              "            title=\"Suggest charts\"\n",
              "            style=\"display:none;\">\n",
              "\n",
              "<svg xmlns=\"http://www.w3.org/2000/svg\" height=\"24px\"viewBox=\"0 0 24 24\"\n",
              "     width=\"24px\">\n",
              "    <g>\n",
              "        <path d=\"M19 3H5c-1.1 0-2 .9-2 2v14c0 1.1.9 2 2 2h14c1.1 0 2-.9 2-2V5c0-1.1-.9-2-2-2zM9 17H7v-7h2v7zm4 0h-2V7h2v10zm4 0h-2v-4h2v4z\"/>\n",
              "    </g>\n",
              "</svg>\n",
              "  </button>\n",
              "\n",
              "<style>\n",
              "  .colab-df-quickchart {\n",
              "      --bg-color: #E8F0FE;\n",
              "      --fill-color: #1967D2;\n",
              "      --hover-bg-color: #E2EBFA;\n",
              "      --hover-fill-color: #174EA6;\n",
              "      --disabled-fill-color: #AAA;\n",
              "      --disabled-bg-color: #DDD;\n",
              "  }\n",
              "\n",
              "  [theme=dark] .colab-df-quickchart {\n",
              "      --bg-color: #3B4455;\n",
              "      --fill-color: #D2E3FC;\n",
              "      --hover-bg-color: #434B5C;\n",
              "      --hover-fill-color: #FFFFFF;\n",
              "      --disabled-bg-color: #3B4455;\n",
              "      --disabled-fill-color: #666;\n",
              "  }\n",
              "\n",
              "  .colab-df-quickchart {\n",
              "    background-color: var(--bg-color);\n",
              "    border: none;\n",
              "    border-radius: 50%;\n",
              "    cursor: pointer;\n",
              "    display: none;\n",
              "    fill: var(--fill-color);\n",
              "    height: 32px;\n",
              "    padding: 0;\n",
              "    width: 32px;\n",
              "  }\n",
              "\n",
              "  .colab-df-quickchart:hover {\n",
              "    background-color: var(--hover-bg-color);\n",
              "    box-shadow: 0 1px 2px rgba(60, 64, 67, 0.3), 0 1px 3px 1px rgba(60, 64, 67, 0.15);\n",
              "    fill: var(--button-hover-fill-color);\n",
              "  }\n",
              "\n",
              "  .colab-df-quickchart-complete:disabled,\n",
              "  .colab-df-quickchart-complete:disabled:hover {\n",
              "    background-color: var(--disabled-bg-color);\n",
              "    fill: var(--disabled-fill-color);\n",
              "    box-shadow: none;\n",
              "  }\n",
              "\n",
              "  .colab-df-spinner {\n",
              "    border: 2px solid var(--fill-color);\n",
              "    border-color: transparent;\n",
              "    border-bottom-color: var(--fill-color);\n",
              "    animation:\n",
              "      spin 1s steps(1) infinite;\n",
              "  }\n",
              "\n",
              "  @keyframes spin {\n",
              "    0% {\n",
              "      border-color: transparent;\n",
              "      border-bottom-color: var(--fill-color);\n",
              "      border-left-color: var(--fill-color);\n",
              "    }\n",
              "    20% {\n",
              "      border-color: transparent;\n",
              "      border-left-color: var(--fill-color);\n",
              "      border-top-color: var(--fill-color);\n",
              "    }\n",
              "    30% {\n",
              "      border-color: transparent;\n",
              "      border-left-color: var(--fill-color);\n",
              "      border-top-color: var(--fill-color);\n",
              "      border-right-color: var(--fill-color);\n",
              "    }\n",
              "    40% {\n",
              "      border-color: transparent;\n",
              "      border-right-color: var(--fill-color);\n",
              "      border-top-color: var(--fill-color);\n",
              "    }\n",
              "    60% {\n",
              "      border-color: transparent;\n",
              "      border-right-color: var(--fill-color);\n",
              "    }\n",
              "    80% {\n",
              "      border-color: transparent;\n",
              "      border-right-color: var(--fill-color);\n",
              "      border-bottom-color: var(--fill-color);\n",
              "    }\n",
              "    90% {\n",
              "      border-color: transparent;\n",
              "      border-bottom-color: var(--fill-color);\n",
              "    }\n",
              "  }\n",
              "</style>\n",
              "\n",
              "  <script>\n",
              "    async function quickchart(key) {\n",
              "      const quickchartButtonEl =\n",
              "        document.querySelector('#' + key + ' button');\n",
              "      quickchartButtonEl.disabled = true;  // To prevent multiple clicks.\n",
              "      quickchartButtonEl.classList.add('colab-df-spinner');\n",
              "      try {\n",
              "        const charts = await google.colab.kernel.invokeFunction(\n",
              "            'suggestCharts', [key], {});\n",
              "      } catch (error) {\n",
              "        console.error('Error during call to suggestCharts:', error);\n",
              "      }\n",
              "      quickchartButtonEl.classList.remove('colab-df-spinner');\n",
              "      quickchartButtonEl.classList.add('colab-df-quickchart-complete');\n",
              "    }\n",
              "    (() => {\n",
              "      let quickchartButtonEl =\n",
              "        document.querySelector('#df-605bdd9c-3bf6-4ef9-ab30-a598446f8f00 button');\n",
              "      quickchartButtonEl.style.display =\n",
              "        google.colab.kernel.accessAllowed ? 'block' : 'none';\n",
              "    })();\n",
              "  </script>\n",
              "</div>\n",
              "\n",
              "    </div>\n",
              "  </div>\n"
            ]
          },
          "metadata": {},
          "execution_count": 74
        }
      ]
    },
    {
      "cell_type": "code",
      "source": [
        "liste = [\"X_Kırmızı\",\t\"Y_Kırmızı\"\t,\"X_Mavi\",\t\"Y_Mavi\"\t,\"X_Yeşil\"\t,\"Y_Yeşil\"]\n",
        "for i in range(0,6):\n",
        "  temp = df[liste[i]]\n",
        "  temp.plot()"
      ],
      "metadata": {
        "id": "JnJixcRw_iov",
        "colab": {
          "base_uri": "https://localhost:8080/",
          "height": 435
        },
        "outputId": "d2d9101e-8a61-4553-c382-016d064fdf78"
      },
      "execution_count": 75,
      "outputs": [
        {
          "output_type": "display_data",
          "data": {
            "text/plain": [
              "<Figure size 640x480 with 1 Axes>"
            ],
            "image/png": "[encoded data removed]"
          },
          "metadata": {}
        }
      ]
    },
    {
      "cell_type": "code",
      "source": [
        "red_values_reshaped = pd.concat([df.iloc[:, 0],df.iloc[:, 1]], axis = 1).values.reshape((-1,2))\n",
        "blue_values_reshaped = pd.concat([df.iloc[:, 2],df.iloc[:, 3]], axis = 1).values.reshape((-1,2))\n",
        "green_values_reshaped = pd.concat([df.iloc[:, 4],df.iloc[:, 5]], axis = 1).values.reshape((-1,2))"
      ],
      "metadata": {
        "id": "HpcWh-QN9QUP"
      },
      "execution_count": 76,
      "outputs": []
    },
    {
      "cell_type": "code",
      "source": [
        "all_hotties = df.iloc[:, 0:6].values.reshape((-1, 6))\n",
        "all_hotties"
      ],
      "metadata": {
        "colab": {
          "base_uri": "https://localhost:8080/"
        },
        "id": "vLtaS1PZWf0S",
        "outputId": "067e7c00-7450-44a9-ccec-c350cfa2daf1"
      },
      "execution_count": 105,
      "outputs": [
        {
          "output_type": "execute_result",
          "data": {
            "text/plain": [
              "array([[  21,  467,  102,  467,   61,  546],\n",
              "       [  21,  467,  102,  467,   61,  546],\n",
              "       [  21,  467,  102,  467,   61,  546],\n",
              "       ...,\n",
              "       [1153,  467, 1234,  467, 1194,  546],\n",
              "       [1153,  467, 1234,  467, 1194,  546],\n",
              "       [1153,  467, 1234,  467, 1194,  546]])"
            ]
          },
          "metadata": {},
          "execution_count": 105
        }
      ]
    },
    {
      "cell_type": "code",
      "source": [
        "len(all_hotties)"
      ],
      "metadata": {
        "colab": {
          "base_uri": "https://localhost:8080/"
        },
        "id": "6F65LUy2chGu",
        "outputId": "be50fbe2-033b-4489-f63f-978190fa25b0"
      },
      "execution_count": 106,
      "outputs": [
        {
          "output_type": "execute_result",
          "data": {
            "text/plain": [
              "443"
            ]
          },
          "metadata": {},
          "execution_count": 106
        }
      ]
    },
    {
      "cell_type": "code",
      "source": [
        "all_hotties_y1 = df.iloc[9:, 0:6].values.reshape((-1, 6))\n",
        "all_hotties_y1.shape"
      ],
      "metadata": {
        "colab": {
          "base_uri": "https://localhost:8080/"
        },
        "id": "eJX6coBXcmOk",
        "outputId": "0ecf5579-c53d-4bf1-db5e-47ff6478ba28"
      },
      "execution_count": 119,
      "outputs": [
        {
          "output_type": "execute_result",
          "data": {
            "text/plain": [
              "(434, 6)"
            ]
          },
          "metadata": {},
          "execution_count": 119
        }
      ]
    },
    {
      "cell_type": "code",
      "source": [
        "# red_values_reshaped"
      ],
      "metadata": {
        "id": "byEEnBYotiS5"
      },
      "execution_count": 120,
      "outputs": []
    },
    {
      "cell_type": "code",
      "source": [
        "def array_split(array, size=5):\n",
        "    satir, sutun = array.shape\n",
        "    yeni_satir = satir - size + 1\n",
        "    yeni_sutun = size\n",
        "\n",
        "    yeni_array = np.empty((yeni_satir, yeni_sutun, sutun), dtype=array.dtype)\n",
        "\n",
        "    for i in range(yeni_satir):\n",
        "        yeni_array[i] = array[i:i+size]\n",
        "\n",
        "    return yeni_array"
      ],
      "metadata": {
        "id": "E0Wj7R2XQtSu"
      },
      "execution_count": 121,
      "outputs": []
    },
    {
      "cell_type": "code",
      "source": [
        "red_resized_array = array_split(red_values_reshaped)\n",
        "green_resized_array = array_split(green_values_reshaped)\n",
        "blue_resized_array = array_split(blue_values_reshaped)\n",
        "all_hotties_resized_array = array_split(all_hotties)"
      ],
      "metadata": {
        "id": "PSmUypePSoED"
      },
      "execution_count": 122,
      "outputs": []
    },
    {
      "cell_type": "code",
      "source": [
        "X1 = all_hotties_resized_array"
      ],
      "metadata": {
        "id": "GWTxdrv0XXOY"
      },
      "execution_count": 123,
      "outputs": []
    },
    {
      "cell_type": "code",
      "source": [
        "y1 = all_hotties_y1"
      ],
      "metadata": {
        "id": "rBgG49o8XXLz"
      },
      "execution_count": 124,
      "outputs": []
    },
    {
      "cell_type": "code",
      "source": [
        "print(len(X1))\n",
        "print(len(y1))"
      ],
      "metadata": {
        "colab": {
          "base_uri": "https://localhost:8080/"
        },
        "id": "MsZ7eBH9ajuJ",
        "outputId": "0f8161f3-98a4-49f8-8914-c810905faf9c"
      },
      "execution_count": 125,
      "outputs": [
        {
          "output_type": "stream",
          "name": "stdout",
          "text": [
            "439\n",
            "434\n"
          ]
        }
      ]
    },
    {
      "cell_type": "code",
      "source": [
        "a = round(len(X1) * 0.55)\n",
        "b = round(len(X1) * 0.65)\n",
        "\n",
        "X_train1, y_train1 = X1[:a], y1[:a]\n",
        "X_val1, y_val1 = X1[a:b], y1[a:b]\n",
        "X_test1, y_test1 = X1[b:], y1[b:]"
      ],
      "metadata": {
        "id": "fp26BzyQajow"
      },
      "execution_count": 126,
      "outputs": []
    },
    {
      "cell_type": "code",
      "source": [
        "X_train1.shape, y_train1.shape, X_val1.shape, y_val1.shape, X_test1.shape, y_test1.shape"
      ],
      "metadata": {
        "colab": {
          "base_uri": "https://localhost:8080/"
        },
        "id": "0N7kRFb6ajmM",
        "outputId": "919b25cd-54be-4903-ccf0-1507a1fc3ea0"
      },
      "execution_count": 127,
      "outputs": [
        {
          "output_type": "execute_result",
          "data": {
            "text/plain": [
              "((241, 5, 6), (241, 6), (44, 5, 6), (44, 6), (154, 5, 6), (149, 6))"
            ]
          },
          "metadata": {},
          "execution_count": 127
        }
      ]
    },
    {
      "cell_type": "code",
      "source": [
        "# red_resized_array\n",
        "# all_hotties_resized_array"
      ],
      "metadata": {
        "id": "E13CewjmSuDF"
      },
      "execution_count": 86,
      "outputs": []
    },
    {
      "cell_type": "code",
      "source": [
        "# !pip install tensorflow"
      ],
      "metadata": {
        "id": "i_rfH6xyUj_r"
      },
      "execution_count": 87,
      "outputs": []
    },
    {
      "cell_type": "code",
      "source": [
        "from tensorflow.keras.models import Sequential\n",
        "from tensorflow.keras.layers import *\n",
        "from tensorflow.keras.callbacks import ModelCheckpoint\n",
        "from tensorflow.keras.losses import MeanSquaredError\n",
        "from tensorflow.keras.metrics import RootMeanSquaredError\n",
        "from tensorflow.keras.optimizers import Adam\n",
        "from tensorflow.keras.layers import Dense , LSTM\n",
        "from tensorflow.keras.models import load_model"
      ],
      "metadata": {
        "id": "HdMUby3JV8qp"
      },
      "execution_count": 128,
      "outputs": []
    },
    {
      "cell_type": "code",
      "source": [
        "model1 = Sequential()\n",
        "model1.add(InputLayer((5, 6)))   ####   X_train1.shape is (5,1)\n",
        "model1.add(LSTM(64))\n",
        "model1.add(Dense(8, 'relu'))\n",
        "model1.add(Dense(1, 'linear'))\n",
        "\n",
        "model1.summary()"
      ],
      "metadata": {
        "colab": {
          "base_uri": "https://localhost:8080/"
        },
        "id": "gTugBDDmWOD8",
        "outputId": "9a2d3c15-49fd-4341-895a-5fa83bf49d88"
      },
      "execution_count": 133,
      "outputs": [
        {
          "output_type": "stream",
          "name": "stdout",
          "text": [
            "Model: \"sequential_1\"\n",
            "_________________________________________________________________\n",
            " Layer (type)                Output Shape              Param #   \n",
            "=================================================================\n",
            " lstm_1 (LSTM)               (None, 64)                18176     \n",
            "                                                                 \n",
            " dense_2 (Dense)             (None, 8)                 520       \n",
            "                                                                 \n",
            " dense_3 (Dense)             (None, 1)                 9         \n",
            "                                                                 \n",
            "=================================================================\n",
            "Total params: 18705 (73.07 KB)\n",
            "Trainable params: 18705 (73.07 KB)\n",
            "Non-trainable params: 0 (0.00 Byte)\n",
            "_________________________________________________________________\n"
          ]
        }
      ]
    },
    {
      "cell_type": "code",
      "source": [
        "cp1 = ModelCheckpoint('model1/', save_best_only=True)\n",
        "model1.compile(loss=MeanSquaredError(), optimizer=Adam(learning_rate=0.0001), metrics=[RootMeanSquaredError()])"
      ],
      "metadata": {
        "id": "Xg7GZhmgaVI3"
      },
      "execution_count": 134,
      "outputs": []
    },
    {
      "cell_type": "code",
      "source": [
        "model1.fit(X_train1, y_train1, validation_data=(X_val1, y_val1), epochs=10, callbacks=[cp1])"
      ],
      "metadata": {
        "colab": {
          "base_uri": "https://localhost:8080/"
        },
        "id": "dnsI58nTaVGk",
        "outputId": "e938e563-b443-42ab-cd37-b2e6bb43ef5e"
      },
      "execution_count": 140,
      "outputs": [
        {
          "output_type": "stream",
          "name": "stdout",
          "text": [
            "Epoch 1/10\n",
            "8/8 [==============================] - 7s 587ms/step - loss: 117521.8203 - root_mean_squared_error: 342.8145 - val_loss: 378841.7812 - val_root_mean_squared_error: 615.5012\n",
            "Epoch 2/10\n",
            "8/8 [==============================] - 4s 604ms/step - loss: 117496.6172 - root_mean_squared_error: 342.7778 - val_loss: 378809.8750 - val_root_mean_squared_error: 615.4753\n",
            "Epoch 3/10\n",
            "8/8 [==============================] - 4s 615ms/step - loss: 117476.0547 - root_mean_squared_error: 342.7478 - val_loss: 378769.2188 - val_root_mean_squared_error: 615.4423\n",
            "Epoch 4/10\n",
            "8/8 [==============================] - 4s 515ms/step - loss: 117454.3984 - root_mean_squared_error: 342.7162 - val_loss: 378682.2812 - val_root_mean_squared_error: 615.3716\n",
            "Epoch 5/10\n",
            "8/8 [==============================] - 4s 613ms/step - loss: 117430.8203 - root_mean_squared_error: 342.6818 - val_loss: 378599.4688 - val_root_mean_squared_error: 615.3044\n",
            "Epoch 6/10\n",
            "8/8 [==============================] - 4s 590ms/step - loss: 117407.7266 - root_mean_squared_error: 342.6481 - val_loss: 378563.1875 - val_root_mean_squared_error: 615.2748\n",
            "Epoch 7/10\n",
            "8/8 [==============================] - 5s 668ms/step - loss: 117384.2109 - root_mean_squared_error: 342.6138 - val_loss: 378535.6250 - val_root_mean_squared_error: 615.2524\n",
            "Epoch 8/10\n",
            "8/8 [==============================] - 4s 606ms/step - loss: 117361.8047 - root_mean_squared_error: 342.5811 - val_loss: 378507.5625 - val_root_mean_squared_error: 615.2297\n",
            "Epoch 9/10\n",
            "8/8 [==============================] - 4s 506ms/step - loss: 117334.9609 - root_mean_squared_error: 342.5419 - val_loss: 378480.3125 - val_root_mean_squared_error: 615.2075\n",
            "Epoch 10/10\n",
            "8/8 [==============================] - 4s 605ms/step - loss: 117290.7734 - root_mean_squared_error: 342.4774 - val_loss: 378413.7812 - val_root_mean_squared_error: 615.1534\n"
          ]
        },
        {
          "output_type": "execute_result",
          "data": {
            "text/plain": [
              "<keras.src.callbacks.History at 0x786cf6f7faf0>"
            ]
          },
          "metadata": {},
          "execution_count": 140
        }
      ]
    },
    {
      "cell_type": "code",
      "source": [
        "model1 = load_model('model1/')"
      ],
      "metadata": {
        "id": "U7jLPuAxaVB1"
      },
      "execution_count": 141,
      "outputs": []
    },
    {
      "cell_type": "code",
      "source": [
        "train_predictions = model1.predict(X_train1).flatten()\n",
        "train_predictions"
      ],
      "metadata": {
        "colab": {
          "base_uri": "https://localhost:8080/"
        },
        "id": "TPVJN-5daU_h",
        "outputId": "a1555a86-f5dd-4256-8230-a7a31a8a3217"
      },
      "execution_count": 142,
      "outputs": [
        {
          "output_type": "stream",
          "name": "stdout",
          "text": [
            "8/8 [==============================] - 0s 4ms/step\n"
          ]
        },
        {
          "output_type": "execute_result",
          "data": {
            "text/plain": [
              "array([1.1021203 , 1.1021203 , 1.1021203 , 1.1021203 , 1.1021203 ,\n",
              "       1.1021203 , 1.1021203 , 1.1021203 , 1.1021203 , 1.1021203 ,\n",
              "       1.1021203 , 1.1021203 , 1.1021203 , 1.1021203 , 1.1021203 ,\n",
              "       1.1021203 , 1.1021203 , 1.1021203 , 1.1021203 , 1.1021203 ,\n",
              "       1.1021203 , 1.1021203 , 1.1021203 , 1.1021203 , 1.1021203 ,\n",
              "       1.1021203 , 1.1021203 , 1.1021203 , 1.1021203 , 1.1021203 ,\n",
              "       1.1021203 , 1.1021203 , 1.1021203 , 1.1021203 , 1.1021203 ,\n",
              "       1.1021203 , 1.1021203 , 1.1021203 , 1.1021203 , 1.1021203 ,\n",
              "       1.1021203 , 1.1021203 , 1.1021203 , 1.1021203 , 1.1021203 ,\n",
              "       1.1021203 , 1.1021203 , 1.1021203 , 1.1021203 , 1.1021203 ,\n",
              "       1.1021203 , 1.1021203 , 1.1021203 , 1.1021203 , 1.1021203 ,\n",
              "       1.1021203 , 1.1021203 , 1.1021203 , 1.1021203 , 1.1021203 ,\n",
              "       1.1021203 , 1.1021203 , 1.1021203 , 1.1021203 , 1.1021203 ,\n",
              "       1.1021203 , 1.1021203 , 1.1021203 , 1.1021203 , 1.1021203 ,\n",
              "       1.1021203 , 1.1021203 , 1.1021203 , 1.1021203 , 1.1021203 ,\n",
              "       1.1021203 , 1.1021203 , 1.1021203 , 1.1021203 , 1.1021203 ,\n",
              "       1.1021203 , 1.1021203 , 1.1021203 , 1.1021203 , 1.1021203 ,\n",
              "       1.1021203 , 1.1021203 , 1.1021203 , 1.1021203 , 1.1021203 ,\n",
              "       1.1021203 , 1.1021203 , 1.1021203 , 1.1021203 , 1.1021203 ,\n",
              "       1.1021203 , 1.1021203 , 1.1021203 , 1.1021203 , 1.1021203 ,\n",
              "       1.1021203 , 1.1021203 , 1.1021203 , 1.1021203 , 1.1021203 ,\n",
              "       1.1021203 , 1.1021203 , 1.1021203 , 1.1021203 , 1.1021203 ,\n",
              "       1.1021203 , 1.1021203 , 1.1021203 , 1.1021203 , 1.1021203 ,\n",
              "       1.1021203 , 1.1021203 , 1.1021203 , 1.1020021 , 1.0991784 ,\n",
              "       1.0991688 , 1.0910136 , 1.0909653 , 1.0732704 , 1.0731509 ,\n",
              "       1.0592717 , 1.0591878 , 1.0560311 , 1.0560132 , 1.0487379 ,\n",
              "       1.0466272 , 1.0474577 , 1.0474621 , 1.041175  , 1.041154  ,\n",
              "       1.03217   , 1.0321555 , 1.0315837 , 1.0315679 , 1.0327035 ,\n",
              "       1.0324229 , 1.0296485 , 0.9475902 , 0.47489166, 0.4446128 ,\n",
              "       0.35284063, 0.35487473, 0.19631308, 0.19850162, 0.35782376,\n",
              "       0.36539927, 0.5987559 , 0.62733614, 0.91036475, 0.94079345,\n",
              "       0.98498   , 0.99307734, 0.9988833 , 0.99920756, 1.0010644 ,\n",
              "       1.0010631 , 1.0041655 , 1.0034865 , 0.99249977, 0.9845474 ,\n",
              "       1.124994  , 1.1697998 , 1.2640889 , 1.2784085 , 1.3202575 ,\n",
              "       1.3206491 , 1.3192427 , 1.3193271 , 1.3129886 , 1.3130463 ,\n",
              "       1.2965323 , 1.2966074 , 1.2834717 , 1.3396994 , 1.664608  ,\n",
              "       1.7131318 , 1.6316373 , 1.6295434 , 1.5001407 , 1.4534883 ,\n",
              "       1.1661397 , 1.0566924 , 1.0540174 , 1.0479978 , 0.8428617 ,\n",
              "       0.64747405, 0.49328735, 0.51384854, 0.5472468 , 0.5687567 ,\n",
              "       0.5658937 , 0.5688722 , 0.5691216 , 0.5703631 , 0.66689986,\n",
              "       0.6675813 , 0.9543052 , 0.9550668 , 1.058092  , 1.0584332 ,\n",
              "       1.0865492 , 1.0851376 , 1.0699774 , 1.0711823 , 1.0721997 ,\n",
              "       1.0723101 , 1.0725366 , 1.072579  , 1.0711616 , 1.0725521 ,\n",
              "       1.0763351 , 1.0768999 , 1.0817002 , 1.0818973 , 1.0878477 ,\n",
              "       1.0879644 , 1.0934252 , 1.0935135 , 1.1020768 , 1.102291  ,\n",
              "       1.1038035 , 1.103892  , 1.105798  , 1.1058459 , 1.1048968 ,\n",
              "       1.1048914 , 1.1037796 , 1.1037816 , 1.1037134 , 1.1037173 ,\n",
              "       1.1025267 , 1.1025115 , 1.1010573 , 1.1010376 , 1.0997367 ,\n",
              "       1.0997186 ], dtype=float32)"
            ]
          },
          "metadata": {},
          "execution_count": 142
        }
      ]
    },
    {
      "cell_type": "code",
      "source": [
        "plt.plot(train_predictions)\n",
        "plt.show()"
      ],
      "metadata": {
        "colab": {
          "base_uri": "https://localhost:8080/",
          "height": 430
        },
        "id": "58UKuq4WiAC_",
        "outputId": "d8347baa-842d-4d87-8bbc-9548f8b628a7"
      },
      "execution_count": 145,
      "outputs": [
        {
          "output_type": "display_data",
          "data": {
            "text/plain": [
              "<Figure size 640x480 with 1 Axes>"
            ],
            "image/png": "[encoded data removed]"
          },
          "metadata": {}
        }
      ]
    },
    {
      "cell_type": "code",
      "source": [],
      "metadata": {
        "id": "nRFnhYNmi-OO"
      },
      "execution_count": null,
      "outputs": []
    }
  ]
}